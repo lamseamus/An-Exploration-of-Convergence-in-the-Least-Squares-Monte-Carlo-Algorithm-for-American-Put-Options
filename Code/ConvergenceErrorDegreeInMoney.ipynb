{
 "cells": [
  {
   "cell_type": "markdown",
   "id": "bfd4efea",
   "metadata": {},
   "source": [
    "# Convergence Error with Degree in the money"
   ]
  },
  {
   "cell_type": "code",
   "execution_count": 5,
   "id": "5c54d4f4",
   "metadata": {
    "vscode": {
     "languageId": "r"
    }
   },
   "outputs": [],
   "source": [
    "options(scipen = 999)\n",
    "source(\"Functions.R\") # Import the functions from the Functions.R file\n",
    "library(RColorBrewer)\n",
    "library(scatterplot3d)\n",
    "library(viridis)\n",
    "library(plotly)"
   ]
  },
  {
   "cell_type": "code",
   "execution_count": 7,
   "id": "4baf5b38",
   "metadata": {
    "vscode": {
     "languageId": "r"
    }
   },
   "outputs": [],
   "source": [
    "# Fixed parameters \n",
    "M = 50 # Number of time steps \n",
    "r = 0.005290473\n",
    "S0 = 931.8 \n",
    "sigma = 0.01026789\n",
    "N = 1000 # Number of paths"
   ]
  },
  {
   "cell_type": "code",
   "execution_count": 13,
   "id": "bf91d1bd",
   "metadata": {
    "vscode": {
     "languageId": "r"
    }
   },
   "outputs": [],
   "source": [
    "list_of_strike <- c(931.8,935,940,945,950,960,970,980)"
   ]
  },
  {
   "cell_type": "code",
   "execution_count": null,
   "id": "cbb39dc2",
   "metadata": {
    "vscode": {
     "languageId": "r"
    }
   },
   "outputs": [],
   "source": [
    "df <- data.frame()\n",
    "for (i in 1:length(list_of_strike)) {\n",
    "  K <- list_of_strike[i]\n",
    "  \n",
    "  binomial_value <- binomial_tree_american_put(K = K, M = 1000, r = r, S0 = 931.8, T = 1, sigma = sigma)\n",
    "  \n",
    "  price_mc <- price_american_put_longstaff_schwartz_MC(\n",
    "    K = K,\n",
    "    M = M,\n",
    "    N = N,\n",
    "    r = 0.005290473,\n",
    "    S0 = 931.8,\n",
    "    sigma = 0.01026789,\n",
    "    polynomial = Y ~ X + I(X^2)\n",
    "  )\n",
    "  \n",
    "  relative_error <- abs((binomial_value - price_mc) / binomial_value) * 100\n",
    "  \n",
    "  df <- rbind(df, data.frame(K = K, S0 = 931.8, binomial = binomial_value, MC = price_mc, error = relative_error))\n",
    "}"
   ]
  },
  {
   "cell_type": "code",
   "execution_count": 15,
   "id": "72935b6c",
   "metadata": {
    "vscode": {
     "languageId": "r"
    }
   },
   "outputs": [
    {
     "data": {
      "text/html": [
       "<table class=\"dataframe\">\n",
       "<caption>A data.frame: 8 × 5</caption>\n",
       "<thead>\n",
       "\t<tr><th scope=col>K</th><th scope=col>S0</th><th scope=col>binomial</th><th scope=col>MC</th><th scope=col>error</th></tr>\n",
       "\t<tr><th scope=col>&lt;dbl&gt;</th><th scope=col>&lt;dbl&gt;</th><th scope=col>&lt;dbl&gt;</th><th scope=col>&lt;dbl&gt;</th><th scope=col>&lt;dbl&gt;</th></tr>\n",
       "</thead>\n",
       "<tbody>\n",
       "\t<tr><td>931.8</td><td>931.8</td><td> 2.323929</td><td> 1.111100</td><td>52.1887400</td></tr>\n",
       "\t<tr><td>935.0</td><td>931.8</td><td> 3.978924</td><td> 3.196879</td><td>19.6547075</td></tr>\n",
       "\t<tr><td>940.0</td><td>931.8</td><td> 8.200000</td><td> 8.150696</td><td> 0.6012635</td></tr>\n",
       "\t<tr><td>945.0</td><td>931.8</td><td>13.200000</td><td>13.123296</td><td> 0.5810922</td></tr>\n",
       "\t<tr><td>950.0</td><td>931.8</td><td>18.200000</td><td>18.009741</td><td> 1.0453780</td></tr>\n",
       "\t<tr><td>960.0</td><td>931.8</td><td>28.200000</td><td>27.937269</td><td> 0.9316705</td></tr>\n",
       "\t<tr><td>970.0</td><td>931.8</td><td>38.200000</td><td>37.952713</td><td> 0.6473469</td></tr>\n",
       "\t<tr><td>980.0</td><td>931.8</td><td>48.200000</td><td>47.897656</td><td> 0.6272692</td></tr>\n",
       "</tbody>\n",
       "</table>\n"
      ],
      "text/latex": [
       "A data.frame: 8 × 5\n",
       "\\begin{tabular}{lllll}\n",
       " K & S0 & binomial & MC & error\\\\\n",
       " <dbl> & <dbl> & <dbl> & <dbl> & <dbl>\\\\\n",
       "\\hline\n",
       "\t 931.8 & 931.8 &  2.323929 &  1.111100 & 52.1887400\\\\\n",
       "\t 935.0 & 931.8 &  3.978924 &  3.196879 & 19.6547075\\\\\n",
       "\t 940.0 & 931.8 &  8.200000 &  8.150696 &  0.6012635\\\\\n",
       "\t 945.0 & 931.8 & 13.200000 & 13.123296 &  0.5810922\\\\\n",
       "\t 950.0 & 931.8 & 18.200000 & 18.009741 &  1.0453780\\\\\n",
       "\t 960.0 & 931.8 & 28.200000 & 27.937269 &  0.9316705\\\\\n",
       "\t 970.0 & 931.8 & 38.200000 & 37.952713 &  0.6473469\\\\\n",
       "\t 980.0 & 931.8 & 48.200000 & 47.897656 &  0.6272692\\\\\n",
       "\\end{tabular}\n"
      ],
      "text/markdown": [
       "\n",
       "A data.frame: 8 × 5\n",
       "\n",
       "| K &lt;dbl&gt; | S0 &lt;dbl&gt; | binomial &lt;dbl&gt; | MC &lt;dbl&gt; | error &lt;dbl&gt; |\n",
       "|---|---|---|---|---|\n",
       "| 931.8 | 931.8 |  2.323929 |  1.111100 | 52.1887400 |\n",
       "| 935.0 | 931.8 |  3.978924 |  3.196879 | 19.6547075 |\n",
       "| 940.0 | 931.8 |  8.200000 |  8.150696 |  0.6012635 |\n",
       "| 945.0 | 931.8 | 13.200000 | 13.123296 |  0.5810922 |\n",
       "| 950.0 | 931.8 | 18.200000 | 18.009741 |  1.0453780 |\n",
       "| 960.0 | 931.8 | 28.200000 | 27.937269 |  0.9316705 |\n",
       "| 970.0 | 931.8 | 38.200000 | 37.952713 |  0.6473469 |\n",
       "| 980.0 | 931.8 | 48.200000 | 47.897656 |  0.6272692 |\n",
       "\n"
      ],
      "text/plain": [
       "  K     S0    binomial  MC        error     \n",
       "1 931.8 931.8  2.323929  1.111100 52.1887400\n",
       "2 935.0 931.8  3.978924  3.196879 19.6547075\n",
       "3 940.0 931.8  8.200000  8.150696  0.6012635\n",
       "4 945.0 931.8 13.200000 13.123296  0.5810922\n",
       "5 950.0 931.8 18.200000 18.009741  1.0453780\n",
       "6 960.0 931.8 28.200000 27.937269  0.9316705\n",
       "7 970.0 931.8 38.200000 37.952713  0.6473469\n",
       "8 980.0 931.8 48.200000 47.897656  0.6272692"
      ]
     },
     "metadata": {},
     "output_type": "display_data"
    }
   ],
   "source": [
    "df"
   ]
  },
  {
   "cell_type": "code",
   "execution_count": 18,
   "id": "0caeeece",
   "metadata": {
    "vscode": {
     "languageId": "r"
    }
   },
   "outputs": [
    {
     "data": {
      "image/png": "[encoded data removed]",
      "text/plain": [
       "plot without title"
      ]
     },
     "metadata": {
      "image/png": {
       "height": 420,
       "width": 420
      }
     },
     "output_type": "display_data"
    }
   ],
   "source": [
    "ggplot(df, aes(x = K, y = error)) +\n",
    "  geom_line(color = \"steelblue\", size = 1.2) +\n",
    "  geom_point(color = \"darkred\", size = 2) +\n",
    "  labs(\n",
    "    title = \"Convergence Error with Degree In-The-Money\",\n",
    "    x = \"Strike Price (K)\",\n",
    "    y = \"Relative Error\"\n",
    "  ) +\n",
    "  theme_minimal() +\n",
    "  theme(\n",
    "    plot.title = element_text(hjust = 0.5, size = 14, face = \"bold\"),\n",
    "    axis.title = element_text(size = 12)\n",
    "  )\n"
   ]
  }
 ],
 "metadata": {
  "kernelspec": {
   "display_name": "R",
   "language": "R",
   "name": "ir"
  },
  "language_info": {
   "codemirror_mode": "r",
   "file_extension": ".r",
   "mimetype": "text/x-r-source",
   "name": "R",
   "pygments_lexer": "r",
   "version": "4.3.1"
  }
 },
 "nbformat": 4,
 "nbformat_minor": 5
}
