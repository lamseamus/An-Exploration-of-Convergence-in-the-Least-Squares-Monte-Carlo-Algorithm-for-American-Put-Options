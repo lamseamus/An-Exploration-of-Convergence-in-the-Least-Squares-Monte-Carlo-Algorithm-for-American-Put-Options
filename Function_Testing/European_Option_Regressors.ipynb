{
 "cells": [
  {
   "cell_type": "markdown",
   "id": "ba9822ff",
   "metadata": {},
   "source": [
    "# Using European Put and Calls as Regressors"
   ]
  },
  {
   "cell_type": "code",
   "execution_count": 9,
   "id": "2588ebcc",
   "metadata": {
    "vscode": {
     "languageId": "r"
    }
   },
   "outputs": [],
   "source": [
    "# Black-Scholes formula for European call\n",
    "bs_call <- function(S, K, r, T, sigma) {\n",
    "  set.seed(123)\n",
    "  d1 <- (log(S / K) + (r + 0.5 * sigma^2) * T) / (sigma * sqrt(T))\n",
    "  d2 <- d1 - sigma * sqrt(T)\n",
    "  S * pnorm(d1) - K * exp(-r * T) * pnorm(d2)\n",
    "}\n",
    "\n",
    "# Black-Scholes formula for European put\n",
    "bs_put <- function(S, K, r, T, sigma) {\n",
    "  set.seed(123)\n",
    "  d1 <- (log(S / K) + (r + 0.5 * sigma^2) * T) / (sigma * sqrt(T))\n",
    "  d2 <- d1 - sigma * sqrt(T)\n",
    "  K * exp(-r * T) * pnorm(-d2) - S * pnorm(-d1)\n",
    "}\n",
    "\n",
    "price_american_put_longstaff_schwartz_MC_euro <- function(K, M, N, r, S0, sigma, polynomial) {\n",
    "  dt <- 1 / M\n",
    "  discount <- exp(-r * dt)  \n",
    "  set.seed(123)\n",
    "  Z <- matrix(rnorm(N * M), nrow = N, ncol = M)  \n",
    "  S <- S0 * exp(sigma * sqrt(dt) * t(apply(Z, 1, cumsum)))\n",
    "  \n",
    "  Cash_flow <- matrix(0, nrow = N, ncol = M)\n",
    "  Cash_flow[, M] <- pmax(K - S[, M], 0)\n",
    "  \n",
    "  for (m in M:2) {\n",
    "    X <- S[, m - 1]\n",
    "    T_remaining <- (M - m + 1) * dt\n",
    "\n",
    "    call_bs <- bs_call(X, K, r, T_remaining, sigma)\n",
    "    put_bs <- bs_put(X, K, r, T_remaining, sigma)\n",
    "\n",
    "    df_reg <- data.frame(# Create regressors\n",
    "      S = X,\n",
    "      call = call_bs,\n",
    "      put = put_bs,\n",
    "      Y = Cash_flow[, m] * discount\n",
    "    )\n",
    "\n",
    "    df_reg[X > K, ] <- NA\n",
    "\n",
    "    if (all(is.na(df_reg))) {\n",
    "      Cash_flow[, m - 1] <- 0\n",
    "      next\n",
    "    }\n",
    "\n",
    "    regression <- lm(polynomial, data = df_reg)\n",
    "\n",
    "    immediate_exercise <- pmax(K - X, 0)\n",
    "\n",
    "    df_pred <- data.frame(\n",
    "      S = X,\n",
    "      call = call_bs,\n",
    "      put = put_bs\n",
    "    )\n",
    "    continuation <- predict(regression, newdata = df_pred)\n",
    "\n",
    "    full_step <- cbind(continuation, immediate_exercise)\n",
    "    full_step[immediate_exercise == 0, ] <- NA\n",
    "\n",
    "    result_vector <- ifelse(\n",
    "      is.na(full_step[, 2]), 0,\n",
    "      ifelse(full_step[, 1] > full_step[, 2], 0, full_step[, 2])\n",
    "    )\n",
    "    Cash_flow[, m - 1] <- result_vector\n",
    "  }\n",
    "  \n",
    "  # Discounting cash flows\n",
    "  for (i in 1:nrow(Cash_flow)) {\n",
    "    for (j in 1:ncol(Cash_flow)) {\n",
    "      if (Cash_flow[i, j] != 0) {\n",
    "        Cash_flow[i, j] <- Cash_flow[i, j] * round(exp(-r * j * dt), 5)\n",
    "        if (j < ncol(Cash_flow)) {\n",
    "          Cash_flow[i, (j + 1):ncol(Cash_flow)] <- 0\n",
    "        }\n",
    "        break\n",
    "      }\n",
    "    }\n",
    "  }\n",
    "\n",
    "  return(mean(rowSums(Cash_flow)))\n",
    "}\n"
   ]
  },
  {
   "cell_type": "markdown",
   "id": "c3843818",
   "metadata": {},
   "source": [
    "### Very similar to the binomial tree results especially for very in-the-money calls "
   ]
  },
  {
   "cell_type": "code",
   "execution_count": null,
   "id": "76093a38",
   "metadata": {
    "vscode": {
     "languageId": "r"
    }
   },
   "outputs": [
    {
     "data": {
      "text/html": [
       "38.1537053796522"
      ],
      "text/latex": [
       "38.1537053796522"
      ],
      "text/markdown": [
       "38.1537053796522"
      ],
      "text/plain": [
       "[1] 38.15371"
      ]
     },
     "metadata": {},
     "output_type": "display_data"
    }
   ],
   "source": [
    "price_american_put_longstaff_schwartz_MC_euro( \n",
    "  K = 970,\n",
    "  M = 50, \n",
    "  N = 1000,  \n",
    "  r = 0.005290473,\n",
    "  S0 = 931.8, \n",
    "  sigma = 0.01026789,\n",
    "  polynomial = Y ~ S + call + put + I(S^2) + I(call^2) + I(put^2)\n",
    ")\n",
    "#38.2 Binomial Tree"
   ]
  },
  {
   "cell_type": "code",
   "execution_count": null,
   "id": "96579061",
   "metadata": {
    "vscode": {
     "languageId": "r"
    }
   },
   "outputs": [
    {
     "data": {
      "text/html": [
       "8.19679478784903"
      ],
      "text/latex": [
       "8.19679478784903"
      ],
      "text/markdown": [
       "8.19679478784903"
      ],
      "text/plain": [
       "[1] 8.196795"
      ]
     },
     "metadata": {},
     "output_type": "display_data"
    }
   ],
   "source": [
    "price_american_put_longstaff_schwartz_MC_euro( #\n",
    "  K = 940,\n",
    "  M = 50, \n",
    "  N = 100000,  \n",
    "  r = 0.005290473,\n",
    "  S0 = 931.8, \n",
    "  sigma = 0.01026789,\n",
    "  polynomial = Y ~ S + call + put + I(S^2) + I(call^2) + I(put^2)\n",
    ")\n",
    "# 8.2 Binomial Tree"
   ]
  },
  {
   "cell_type": "code",
   "execution_count": null,
   "id": "980e6917",
   "metadata": {
    "vscode": {
     "languageId": "r"
    }
   },
   "outputs": [
    {
     "data": {
      "text/html": [
       "1.34484655280172"
      ],
      "text/latex": [
       "1.34484655280172"
      ],
      "text/markdown": [
       "1.34484655280172"
      ],
      "text/plain": [
       "[1] 1.344847"
      ]
     },
     "metadata": {},
     "output_type": "display_data"
    }
   ],
   "source": [
    "price_american_put_longstaff_schwartz_MC_euro(\n",
    "  K = 931.8,\n",
    "  M = 50, \n",
    "  N = 1000000,  \n",
    "  r = 0.005290473,\n",
    "  S0 = 931.8, \n",
    "  sigma = 0.01026789,\n",
    "  polynomial = Y ~ S + call + put + I(S^2) + I(call^2) + I(put^2)\n",
    ")\n",
    "# 2.3239 Binomial Tree"
   ]
  },
  {
   "cell_type": "code",
   "execution_count": 12,
   "id": "7e8ca40e",
   "metadata": {
    "vscode": {
     "languageId": "r"
    }
   },
   "outputs": [
    {
     "data": {
      "text/html": [
       "1.38008606615217"
      ],
      "text/latex": [
       "1.38008606615217"
      ],
      "text/markdown": [
       "1.38008606615217"
      ],
      "text/plain": [
       "[1] 1.380086"
      ]
     },
     "metadata": {},
     "output_type": "display_data"
    }
   ],
   "source": [
    "price_american_put_longstaff_schwartz_MC_euro(\n",
    "  K = 931.8,\n",
    "  M = 50, \n",
    "  N = 1000000,  \n",
    "  r = 0.005290473,\n",
    "  S0 = 931.8, \n",
    "  sigma = 0.01026789,\n",
    "  polynomial = Y ~ S + put + I(S^2) + I(put^2)\n",
    ")"
   ]
  },
  {
   "cell_type": "code",
   "execution_count": 13,
   "id": "009edeee",
   "metadata": {
    "vscode": {
     "languageId": "r"
    }
   },
   "outputs": [
    {
     "data": {
      "text/html": [
       "1.21729954979892"
      ],
      "text/latex": [
       "1.21729954979892"
      ],
      "text/markdown": [
       "1.21729954979892"
      ],
      "text/plain": [
       "[1] 1.2173"
      ]
     },
     "metadata": {},
     "output_type": "display_data"
    }
   ],
   "source": [
    "price_american_put_longstaff_schwartz_MC_euro(\n",
    "  K = 931.8,\n",
    "  M = 50, \n",
    "  N = 1000000,  \n",
    "  r = 0.005290473,\n",
    "  S0 = 931.8, \n",
    "  sigma = 0.01026789,\n",
    "  polynomial = Y ~ put + I(put^2)\n",
    ")"
   ]
  },
  {
   "cell_type": "code",
   "execution_count": null,
   "id": "5ceea924",
   "metadata": {
    "vscode": {
     "languageId": "r"
    }
   },
   "outputs": [],
   "source": []
  }
 ],
 "metadata": {
  "kernelspec": {
   "display_name": "R",
   "language": "R",
   "name": "ir"
  },
  "language_info": {
   "codemirror_mode": "r",
   "file_extension": ".r",
   "mimetype": "text/x-r-source",
   "name": "R",
   "pygments_lexer": "r",
   "version": "4.3.1"
  }
 },
 "nbformat": 4,
 "nbformat_minor": 5
}
