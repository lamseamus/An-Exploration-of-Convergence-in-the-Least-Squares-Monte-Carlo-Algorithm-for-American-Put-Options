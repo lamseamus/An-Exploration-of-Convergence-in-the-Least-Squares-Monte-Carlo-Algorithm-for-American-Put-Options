{
 "cells": [
  {
   "cell_type": "markdown",
   "metadata": {},
   "source": [
    "# Estimate Parameters \n"
   ]
  },
  {
   "cell_type": "code",
   "execution_count": 43,
   "metadata": {
    "vscode": {
     "languageId": "r"
    }
   },
   "outputs": [],
   "source": [
    "# Requirements\n",
    "library(readxl)\n",
    "library(dplyr)\n",
    "library(ggplot2)\n",
    "options(scipen = 999)"
   ]
  },
  {
   "cell_type": "markdown",
   "metadata": {},
   "source": [
    "### Risk Free Rate Parameter\n",
    "- Read in Bloomberg data for 3 Month Federal Bills rate \n",
    "- Filter date (2009/01/01 - 2019/12/31)\n",
    "- Take the average during that period "
   ]
  },
  {
   "cell_type": "code",
   "execution_count": 44,
   "metadata": {
    "vscode": {
     "languageId": "r"
    }
   },
   "outputs": [
    {
     "data": {
      "text/html": [
       "<table class=\"dataframe\">\n",
       "<caption>A tibble: 6 × 2</caption>\n",
       "<thead>\n",
       "\t<tr><th scope=col>Date</th><th scope=col>Last Price</th></tr>\n",
       "\t<tr><th scope=col>&lt;dttm&gt;</th><th scope=col>&lt;dbl&gt;</th></tr>\n",
       "</thead>\n",
       "<tbody>\n",
       "\t<tr><td>2020-12-31</td><td>0.072</td></tr>\n",
       "\t<tr><td>2020-12-30</td><td>0.080</td></tr>\n",
       "\t<tr><td>2020-12-29</td><td>0.091</td></tr>\n",
       "\t<tr><td>2020-12-28</td><td>0.087</td></tr>\n",
       "\t<tr><td>2020-12-24</td><td>0.084</td></tr>\n",
       "\t<tr><td>2020-12-23</td><td>0.081</td></tr>\n",
       "</tbody>\n",
       "</table>\n"
      ],
      "text/latex": [
       "A tibble: 6 × 2\n",
       "\\begin{tabular}{ll}\n",
       " Date & Last Price\\\\\n",
       " <dttm> & <dbl>\\\\\n",
       "\\hline\n",
       "\t 2020-12-31 & 0.072\\\\\n",
       "\t 2020-12-30 & 0.080\\\\\n",
       "\t 2020-12-29 & 0.091\\\\\n",
       "\t 2020-12-28 & 0.087\\\\\n",
       "\t 2020-12-24 & 0.084\\\\\n",
       "\t 2020-12-23 & 0.081\\\\\n",
       "\\end{tabular}\n"
      ],
      "text/markdown": [
       "\n",
       "A tibble: 6 × 2\n",
       "\n",
       "| Date &lt;dttm&gt; | Last Price &lt;dbl&gt; |\n",
       "|---|---|\n",
       "| 2020-12-31 | 0.072 |\n",
       "| 2020-12-30 | 0.080 |\n",
       "| 2020-12-29 | 0.091 |\n",
       "| 2020-12-28 | 0.087 |\n",
       "| 2020-12-24 | 0.084 |\n",
       "| 2020-12-23 | 0.081 |\n",
       "\n"
      ],
      "text/plain": [
       "  Date       Last Price\n",
       "1 2020-12-31 0.072     \n",
       "2 2020-12-30 0.080     \n",
       "3 2020-12-29 0.091     \n",
       "4 2020-12-28 0.087     \n",
       "5 2020-12-24 0.084     \n",
       "6 2020-12-23 0.081     "
      ]
     },
     "metadata": {},
     "output_type": "display_data"
    }
   ],
   "source": [
    "# Read in treasury rates data\n",
    "rates <- read_excel(\"Data/3MonthFedBills_2007_01_01_2020_12_12.xlsx\")\n",
    "head(rates)"
   ]
  },
  {
   "cell_type": "code",
   "execution_count": 45,
   "metadata": {
    "vscode": {
     "languageId": "r"
    }
   },
   "outputs": [
    {
     "data": {
      "image/png": "[encoded data removed]",
      "text/plain": [
       "plot without title"
      ]
     },
     "metadata": {
      "image/png": {
       "height": 420,
       "width": 420
      }
     },
     "output_type": "display_data"
    },
    {
     "data": {
      "image/png": "[encoded data removed]",
      "text/plain": [
       "plot without title"
      ]
     },
     "metadata": {
      "image/png": {
       "height": 420,
       "width": 420
      }
     },
     "output_type": "display_data"
    }
   ],
   "source": [
    "# Filter the data for the specified date range\n",
    "filtered_rates <- rates %>%\n",
    "    mutate(Date = as.Date(Date)) %>%\n",
    "    filter(Date >= as.Date(\"2009-01-01\") & Date <= as.Date(\"2019-12-31\"))\n",
    "\n",
    "# Plot the interest rates\n",
    "ggplot(filtered_rates, aes(x = Date, y = `Last Price`)) +\n",
    "    geom_line() +\n",
    "    labs(title = \"3-Month Treasury Bill Rates (2009-2019)\",\n",
    "         x = \"Date\",\n",
    "         y = \"Interest Rate (%)\") +\n",
    "    theme_minimal()\n",
    "\n",
    "# Plot the distribution of interest rates\n",
    "ggplot(filtered_rates, aes(x = `Last Price`)) +\n",
    "  geom_histogram(bins = 30, fill = \"steelblue\", color = \"white\") +\n",
    "  labs(\n",
    "    title = \"Distribution of 3-Month Treasury Bill Rates (2009-2019)\",\n",
    "    x = \"Interest Rate (%)\",\n",
    "    y = \"Frequency\"\n",
    "  ) +\n",
    "  theme_minimal()"
   ]
  },
  {
   "cell_type": "code",
   "execution_count": 46,
   "metadata": {
    "vscode": {
     "languageId": "r"
    }
   },
   "outputs": [
    {
     "name": "stdout",
     "output_type": "stream",
     "text": [
      "Average 3-month Treasury rate from 2009 to 2019: 0.5290473 \n"
     ]
    }
   ],
   "source": [
    "cat(\"Average 3-month Treasury rate from 2009 to 2019:\", mean(filtered_rates$`Last Price`), \"\\n\")"
   ]
  },
  {
   "cell_type": "markdown",
   "metadata": {},
   "source": [
    "### Volatility Parameter \n",
    "- Read in Bloomberg data for SnP500 data\n",
    "- Filter date (2009/01/01 - 2019/12/31)\n",
    "- Print intial value S0\n",
    "- Calculate log returns\n",
    "- Take the standard deviation of the log returns "
   ]
  },
  {
   "cell_type": "code",
   "execution_count": 47,
   "metadata": {
    "vscode": {
     "languageId": "r"
    }
   },
   "outputs": [
    {
     "data": {
      "text/html": [
       "<table class=\"dataframe\">\n",
       "<caption>A tibble: 6 × 2</caption>\n",
       "<thead>\n",
       "\t<tr><th scope=col>Date</th><th scope=col>Last Price</th></tr>\n",
       "\t<tr><th scope=col>&lt;dttm&gt;</th><th scope=col>&lt;dbl&gt;</th></tr>\n",
       "</thead>\n",
       "<tbody>\n",
       "\t<tr><td>2020-12-01</td><td>3662.45</td></tr>\n",
       "\t<tr><td>2020-11-30</td><td>3621.63</td></tr>\n",
       "\t<tr><td>2020-11-27</td><td>3638.35</td></tr>\n",
       "\t<tr><td>2020-11-25</td><td>3629.65</td></tr>\n",
       "\t<tr><td>2020-11-24</td><td>3635.41</td></tr>\n",
       "\t<tr><td>2020-11-23</td><td>3577.59</td></tr>\n",
       "</tbody>\n",
       "</table>\n"
      ],
      "text/latex": [
       "A tibble: 6 × 2\n",
       "\\begin{tabular}{ll}\n",
       " Date & Last Price\\\\\n",
       " <dttm> & <dbl>\\\\\n",
       "\\hline\n",
       "\t 2020-12-01 & 3662.45\\\\\n",
       "\t 2020-11-30 & 3621.63\\\\\n",
       "\t 2020-11-27 & 3638.35\\\\\n",
       "\t 2020-11-25 & 3629.65\\\\\n",
       "\t 2020-11-24 & 3635.41\\\\\n",
       "\t 2020-11-23 & 3577.59\\\\\n",
       "\\end{tabular}\n"
      ],
      "text/markdown": [
       "\n",
       "A tibble: 6 × 2\n",
       "\n",
       "| Date &lt;dttm&gt; | Last Price &lt;dbl&gt; |\n",
       "|---|---|\n",
       "| 2020-12-01 | 3662.45 |\n",
       "| 2020-11-30 | 3621.63 |\n",
       "| 2020-11-27 | 3638.35 |\n",
       "| 2020-11-25 | 3629.65 |\n",
       "| 2020-11-24 | 3635.41 |\n",
       "| 2020-11-23 | 3577.59 |\n",
       "\n"
      ],
      "text/plain": [
       "  Date       Last Price\n",
       "1 2020-12-01 3662.45   \n",
       "2 2020-11-30 3621.63   \n",
       "3 2020-11-27 3638.35   \n",
       "4 2020-11-25 3629.65   \n",
       "5 2020-11-24 3635.41   \n",
       "6 2020-11-23 3577.59   "
      ]
     },
     "metadata": {},
     "output_type": "display_data"
    }
   ],
   "source": [
    "# Read in SnP 500 data\n",
    "snp<- read_excel(\"Data/SnPBloomberg_2007_01_01_2020_12_01.xlsx\")\n",
    "head(snp)"
   ]
  },
  {
   "cell_type": "code",
   "execution_count": 48,
   "metadata": {
    "vscode": {
     "languageId": "r"
    }
   },
   "outputs": [
    {
     "data": {
      "image/png": "[encoded data removed]",
      "text/plain": [
       "plot without title"
      ]
     },
     "metadata": {
      "image/png": {
       "height": 420,
       "width": 420
      }
     },
     "output_type": "display_data"
    }
   ],
   "source": [
    "# Filter the data for the specified date range\n",
    "filtered_snp <- snp %>%\n",
    "    mutate(Date = as.Date(Date)) %>%\n",
    "    filter(Date >= as.Date(\"2009-01-01\") & Date <= as.Date(\"2019-12-31\"))%>% arrange(Date)%>%\n",
    "    mutate(Log_Returns = log(`Last Price` / lag(`Last Price`)))\n",
    "\n",
    "# Plot the S&P 500 data\n",
    "ggplot(filtered_snp, aes(x = Date, y = `Last Price`)) +\n",
    "    geom_line() +\n",
    "    labs(\n",
    "        title = \"S&P 500 Index (2009-2019)\",\n",
    "        x = \"Date\",\n",
    "        y = \"Dollars($)\") + \n",
    "    theme_minimal()"
   ]
  },
  {
   "cell_type": "code",
   "execution_count": 49,
   "metadata": {
    "vscode": {
     "languageId": "r"
    }
   },
   "outputs": [
    {
     "name": "stderr",
     "output_type": "stream",
     "text": [
      "Warning message:\n",
      "\"\u001b[1m\u001b[22mRemoved 1 row containing missing values (`geom_line()`).\"\n",
      "Warning message:\n",
      "\"\u001b[1m\u001b[22mRemoved 1 rows containing non-finite values (`stat_bin()`).\"\n"
     ]
    },
    {
     "data": {
      "image/png": "[encoded data removed]",
      "text/plain": [
       "plot without title"
      ]
     },
     "metadata": {
      "image/png": {
       "height": 420,
       "width": 420
      }
     },
     "output_type": "display_data"
    },
    {
     "data": {
      "image/png": "[encoded data removed]",
      "text/plain": [
       "plot without title"
      ]
     },
     "metadata": {
      "image/png": {
       "height": 420,
       "width": 420
      }
     },
     "output_type": "display_data"
    }
   ],
   "source": [
    "# Plot the S&P 500 log returns \n",
    "ggplot(filtered_snp, aes(x = Date, y = Log_Returns)) +\n",
    "    geom_line() +\n",
    "    labs(\n",
    "        title = \"S&P 500 Index Log Returns(2009-2019)\",\n",
    "        x = \"Date\",\n",
    "        y = \"Log Returns\") + \n",
    "    theme_minimal()\n",
    "    \n",
    "# Plot distribution of log returns\n",
    "ggplot(filtered_snp, aes(x = Log_Returns)) +\n",
    "  geom_histogram(bins = 30, fill = \"steelblue\", color = \"white\") +\n",
    "  labs(\n",
    "    title = \"Distribution of S&P 500 Log Returns (2009-2019)\",\n",
    "    x = \"Log Returns\",\n",
    "    y = \"Frequency\"\n",
    "  ) +\n",
    "  theme_minimal()"
   ]
  },
  {
   "cell_type": "code",
   "execution_count": null,
   "metadata": {
    "vscode": {
     "languageId": "r"
    }
   },
   "outputs": [
    {
     "name": "stdout",
     "output_type": "stream",
     "text": [
      "Initial value S_0: 931.8 \n"
     ]
    }
   ],
   "source": [
    "# Value on January 2, 2009 \n",
    "S_0 <- head(filtered_snp$`Last Price`, 1)\n",
    "cat(\"Initial value S_0:\", S_0, \"\\n\")"
   ]
  },
  {
   "cell_type": "code",
   "execution_count": 53,
   "metadata": {
    "vscode": {
     "languageId": "r"
    }
   },
   "outputs": [
    {
     "name": "stdout",
     "output_type": "stream",
     "text": [
      "Standard deviation of log returns: 0.01026789 \n"
     ]
    }
   ],
   "source": [
    "cat(\"Standard deviation of log returns:\", sd(filtered_snp$Log_Returns, na.rm = TRUE), \"\\n\")"
   ]
  },
  {
   "cell_type": "code",
   "execution_count": 54,
   "metadata": {
    "vscode": {
     "languageId": "r"
    }
   },
   "outputs": [
    {
     "name": "stdout",
     "output_type": "stream",
     "text": [
      "Mean of log returns: 0.0004493533 \n"
     ]
    }
   ],
   "source": [
    "cat(\"Mean of log returns:\", mean(filtered_snp$Log_Returns, na.rm = TRUE), \"\\n\")"
   ]
  }
 ],
 "metadata": {
  "kernelspec": {
   "display_name": "R",
   "language": "R",
   "name": "ir"
  },
  "language_info": {
   "codemirror_mode": "r",
   "file_extension": ".r",
   "mimetype": "text/x-r-source",
   "name": "R",
   "pygments_lexer": "r",
   "version": "4.3.1"
  }
 },
 "nbformat": 4,
 "nbformat_minor": 2
}
