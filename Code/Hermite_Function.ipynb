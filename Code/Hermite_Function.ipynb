{
 "cells": [
  {
   "cell_type": "markdown",
   "id": "17b46ec2",
   "metadata": {},
   "source": [
    "# Hermite Function Testing"
   ]
  },
  {
   "cell_type": "code",
   "execution_count": 1,
   "id": "50e20b65",
   "metadata": {
    "vscode": {
     "languageId": "r"
    }
   },
   "outputs": [],
   "source": [
    "price_american_put_Hermite <- function(K, M, N, r, S0, sigma, degree = 5) {\n",
    "  \n",
    "  dt <- 1/M\n",
    "  discount <- exp(-r * dt)  \n",
    "  set.seed(123)\n",
    "  Z <- matrix(rnorm(N * M), nrow = N, ncol = M)\n",
    "  S <- S0 * exp(sigma * sqrt(dt) * t(apply(Z, 1, cumsum)))\n",
    "  \n",
    "  Cash_flow <- matrix(0, nrow = N, ncol = M)\n",
    "  Cash_flow[, M] <- pmax(K - S[, M], 0)\n",
    "  \n",
    "  hermite_basis <- function(x, d) {\n",
    "    H <- list()\n",
    "    H[[1]] <- rep(1, length(x))                                  # H0\n",
    "    if (d >= 1) H[[2]] <- x                                       # H1\n",
    "    if (d >= 2) H[[3]] <- x^2 - 1                                 # H2\n",
    "    if (d >= 3) H[[4]] <- x^3 - 3*x                               # H3\n",
    "    if (d >= 4) H[[5]] <- x^4 - 6*x^2 + 3                        # H4\n",
    "    if (d >= 5) H[[6]] <- x^5 - 10*x^3 + 15*x                    # H5\n",
    "    do.call(cbind, H[1:(d+1)])\n",
    "  }\n",
    "  \n",
    "  for (m in M:2) {\n",
    "    X <- S[, m-1]\n",
    "    Y <- Cash_flow[, m] * discount\n",
    "    \n",
    "    in_the_money <- X < K\n",
    "    if (sum(in_the_money) == 0) {\n",
    "      Cash_flow[, m-1] <- 0\n",
    "      next\n",
    "    }\n",
    "    \n",
    "    X_in <- X[in_the_money]\n",
    "    Y_in <- Y[in_the_money]\n",
    "    \n",
    "    hermite_features <- hermite_basis(X_in, degree)\n",
    "    regression_df <- data.frame(Y = Y_in, hermite_features)\n",
    "    colnames(regression_df) <- c(\"Y\", paste0(\"H\", 0:degree))\n",
    "    \n",
    "    regression_formula <- as.formula(paste(\"Y ~\", paste(colnames(regression_df)[-1], collapse = \" + \")))\n",
    "    regression <- lm(regression_formula, data = regression_df)\n",
    "    \n",
    "    all_features <- hermite_basis(X, degree)\n",
    "    colnames(all_features) <- paste0(\"H\", 0:degree)\n",
    "    continuation <- predict(regression, newdata = as.data.frame(all_features))\n",
    "    \n",
    "    immediate_exercise <- pmax(K - X, 0)\n",
    "    Cash_flow[, m-1] <- ifelse(continuation < immediate_exercise, immediate_exercise, 0)\n",
    "  }\n",
    "\n",
    "  # Discounting early exercises\n",
    "  for (i in 1:N) {\n",
    "    for (j in 1:M) {\n",
    "      if (Cash_flow[i, j] != 0) {\n",
    "        Cash_flow[i, j] <- Cash_flow[i, j] * round(exp(-r * j), 5)\n",
    "        if (j < M) Cash_flow[i, (j+1):M] <- 0\n",
    "        break\n",
    "      }\n",
    "    }\n",
    "  }\n",
    "\n",
    "  return(mean(rowSums(Cash_flow)))\n",
    "}\n"
   ]
  },
  {
   "cell_type": "code",
   "execution_count": 2,
   "id": "6f4c6c94",
   "metadata": {
    "vscode": {
     "languageId": "r"
    }
   },
   "outputs": [
    {
     "data": {
      "text/html": [
       "1.75284367196068"
      ],
      "text/latex": [
       "1.75284367196068"
      ],
      "text/markdown": [
       "1.75284367196068"
      ],
      "text/plain": [
       "[1] 1.752844"
      ]
     },
     "metadata": {},
     "output_type": "display_data"
    }
   ],
   "source": [
    "price_american_put_Hermite(\n",
    "  K = 931.8,\n",
    "  M = 25, \n",
    "  N = 100000,  \n",
    "  r = 0.005290473,\n",
    "  S0 = 931.8, \n",
    "  sigma = 0.01026789,\n",
    "  degree = 5\n",
    ")"
   ]
  },
  {
   "cell_type": "code",
   "execution_count": null,
   "id": "67a8fb74",
   "metadata": {
    "vscode": {
     "languageId": "r"
    }
   },
   "outputs": [],
   "source": []
  }
 ],
 "metadata": {
  "kernelspec": {
   "display_name": "R",
   "language": "R",
   "name": "ir"
  },
  "language_info": {
   "codemirror_mode": "r",
   "file_extension": ".r",
   "mimetype": "text/x-r-source",
   "name": "R",
   "pygments_lexer": "r",
   "version": "4.3.1"
  }
 },
 "nbformat": 4,
 "nbformat_minor": 5
}
