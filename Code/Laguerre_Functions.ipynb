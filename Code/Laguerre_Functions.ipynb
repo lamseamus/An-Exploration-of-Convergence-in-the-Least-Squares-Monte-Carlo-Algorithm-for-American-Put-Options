{
 "cells": [
  {
   "cell_type": "markdown",
   "id": "62784669",
   "metadata": {},
   "source": [
    "# Testing out Laguerre Function"
   ]
  },
  {
   "cell_type": "code",
   "execution_count": 3,
   "id": "a14f6b61",
   "metadata": {
    "vscode": {
     "languageId": "r"
    }
   },
   "outputs": [],
   "source": [
    "price_american_put_Laguerre <- function(K, M, N, r, S0, sigma, degree = 5) {\n",
    "  \n",
    "  dt <- 1/M\n",
    "  discount <- exp(-r * dt)  \n",
    "  set.seed(123)\n",
    "  Z <- matrix(rnorm(N * M), nrow = N, ncol = M)\n",
    "  S <- S0 * exp(sigma * sqrt(dt) * t(apply(Z, 1, cumsum)))\n",
    "  \n",
    "  Cash_flow <- matrix(0, nrow = N, ncol = M)\n",
    "  Cash_flow[, M] <- pmax(K - S[, M], 0)\n",
    "  \n",
    "  laguerre_basis <- function(x, d) {\n",
    "    L <- list()\n",
    "    L[[1]] <- rep(1, length(x))                                  # L0\n",
    "    if (d >= 1) L[[2]] <- -x + 1                                  # L1\n",
    "    if (d >= 2) L[[3]] <- 0.5 * (x^2 - 4*x + 2)                   # L2\n",
    "    if (d >= 3) L[[4]] <- ( -x^3 + 9*x^2 - 18*x + 6 ) / 6         # L3\n",
    "    if (d >= 4) L[[5]] <- (x^4 - 16*x^3 + 72*x^2 - 96*x + 24) / 24 # L4\n",
    "    if (d >= 5) L[[6]] <- (-x^5 + 25*x^4 - 200*x^3 + 600*x^2 - 600*x + 120) / 120  # L5\n",
    "    do.call(cbind, L[1:(d+1)])\n",
    "  }\n",
    "  \n",
    "  for (m in M:2) {\n",
    "    X <- S[, m-1]\n",
    "    Y <- Cash_flow[, m] * discount\n",
    "    \n",
    "    in_the_money <- X < K\n",
    "    if (sum(in_the_money) == 0) {\n",
    "      Cash_flow[, m-1] <- 0\n",
    "      next\n",
    "    }\n",
    "    \n",
    "    X_in <- X[in_the_money]\n",
    "    Y_in <- Y[in_the_money]\n",
    "    \n",
    "    laguerre_features <- laguerre_basis(X_in, degree)\n",
    "    regression_df <- data.frame(Y = Y_in, laguerre_features)\n",
    "    colnames(regression_df) <- c(\"Y\", paste0(\"L\", 0:degree))\n",
    "    \n",
    "    regression_formula <- as.formula(paste(\"Y ~\", paste(colnames(regression_df)[-1], collapse = \" + \")))\n",
    "    regression <- lm(regression_formula, data = regression_df)\n",
    "    \n",
    "    all_features <- laguerre_basis(X, degree)\n",
    "    colnames(all_features) <- paste0(\"L\", 0:degree)\n",
    "    continuation <- predict(regression, newdata = as.data.frame(all_features))\n",
    "    \n",
    "    immediate_exercise <- pmax(K - X, 0)\n",
    "    Cash_flow[, m-1] <- ifelse(continuation < immediate_exercise, immediate_exercise, 0)\n",
    "  }\n",
    "\n",
    "  # Discounting early exercises\n",
    "  for (i in 1:N) {\n",
    "    for (j in 1:M) {\n",
    "      if (Cash_flow[i, j] != 0) {\n",
    "        Cash_flow[i, j] <- Cash_flow[i, j] * round(exp(-r * j), 5)\n",
    "        if (j < M) Cash_flow[i, (j+1):M] <- 0\n",
    "        break\n",
    "      }\n",
    "    }\n",
    "  }\n",
    "\n",
    "  return(mean(rowSums(Cash_flow)))\n",
    "}"
   ]
  },
  {
   "cell_type": "code",
   "execution_count": 6,
   "id": "787fd7ee",
   "metadata": {
    "vscode": {
     "languageId": "r"
    }
   },
   "outputs": [
    {
     "data": {
      "text/html": [
       "1.59510511471707"
      ],
      "text/latex": [
       "1.59510511471707"
      ],
      "text/markdown": [
       "1.59510511471707"
      ],
      "text/plain": [
       "[1] 1.595105"
      ]
     },
     "metadata": {},
     "output_type": "display_data"
    }
   ],
   "source": [
    "price_american_put_Laguerre(\n",
    "  K = 931.8,\n",
    "  M = 25, \n",
    "  N = 100000,  \n",
    "  r = 0.005290473,\n",
    "  S0 = 931.8, \n",
    "  sigma = 0.01026789,\n",
    "  degree = 4\n",
    ")"
   ]
  },
  {
   "cell_type": "code",
   "execution_count": 7,
   "id": "e9a47c09",
   "metadata": {
    "vscode": {
     "languageId": "r"
    }
   },
   "outputs": [
    {
     "data": {
      "text/html": [
       "1.66192731006868"
      ],
      "text/latex": [
       "1.66192731006868"
      ],
      "text/markdown": [
       "1.66192731006868"
      ],
      "text/plain": [
       "[1] 1.661927"
      ]
     },
     "metadata": {},
     "output_type": "display_data"
    }
   ],
   "source": [
    "price_american_put_Laguerre(\n",
    "  K = 931.8,\n",
    "  M = 25, \n",
    "  N = 100000,  \n",
    "  r = 0.005290473,\n",
    "  S0 = 931.8, \n",
    "  sigma = 0.01026789,\n",
    "  degree = 5\n",
    ")"
   ]
  },
  {
   "cell_type": "code",
   "execution_count": null,
   "id": "9bbcd7a3",
   "metadata": {
    "vscode": {
     "languageId": "r"
    }
   },
   "outputs": [],
   "source": []
  }
 ],
 "metadata": {
  "kernelspec": {
   "display_name": "R",
   "language": "R",
   "name": "ir"
  },
  "language_info": {
   "codemirror_mode": "r",
   "file_extension": ".r",
   "mimetype": "text/x-r-source",
   "name": "R",
   "pygments_lexer": "r",
   "version": "4.3.1"
  }
 },
 "nbformat": 4,
 "nbformat_minor": 5
}
