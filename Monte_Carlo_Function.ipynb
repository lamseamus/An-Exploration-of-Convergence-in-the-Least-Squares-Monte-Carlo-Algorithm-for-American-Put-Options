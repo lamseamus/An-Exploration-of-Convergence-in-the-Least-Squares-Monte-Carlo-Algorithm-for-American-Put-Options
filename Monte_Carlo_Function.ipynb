{
 "cells": [
  {
   "cell_type": "markdown",
   "metadata": {},
   "source": [
    "# Monte Carlo Simulation Function"
   ]
  },
  {
   "cell_type": "markdown",
   "metadata": {},
   "source": [
    "- Break down the function into parts to show that it works using the example in Longstaff Schwartz "
   ]
  },
  {
   "cell_type": "code",
   "execution_count": 1,
   "metadata": {
    "vscode": {
     "languageId": "r"
    }
   },
   "outputs": [],
   "source": [
    "options(scipen = 999) # No scientific notation\n",
    "S <- matrix(c( # Matrix of stock price paths starting at t = 1\n",
    "  1.09, 1.08, 1.34,\n",
    "  1.16, 1.26, 1.54,\n",
    "  1.22, 1.07, 1.03,\n",
    "  0.93, 0.97, 0.92,\n",
    "  1.11, 1.56, 1.52,\n",
    "  0.76, 0.77, 0.90,\n",
    "  0.92, 0.84, 1.01,\n",
    "  0.88, 1.22, 1.34\n",
    "), nrow = 8, byrow = TRUE)"
   ]
  },
  {
   "cell_type": "code",
   "execution_count": 2,
   "metadata": {
    "vscode": {
     "languageId": "r"
    }
   },
   "outputs": [
    {
     "name": "stdout",
     "output_type": "stream",
     "text": [
      "[1] 0.94176\n"
     ]
    }
   ],
   "source": [
    "# Parameters \n",
    "K <- 1.1 # Strike Price \n",
    "M <- 3 # Number of time steps\n",
    "n <- 8 # Number of paths (simulations)\n",
    "dt <- 1 # Time step size\n",
    "r <- 0.06 # Risk-free interest rate\n",
    "discount <- round(exp(-r * dt),5) # Discount factor for one time step\n",
    "print(discount)"
   ]
  },
  {
   "cell_type": "code",
   "execution_count": 3,
   "metadata": {
    "vscode": {
     "languageId": "r"
    }
   },
   "outputs": [
    {
     "name": "stdout",
     "output_type": "stream",
     "text": [
      "     [,1] [,2] [,3]\n",
      "[1,]    0    0 0.00\n",
      "[2,]    0    0 0.00\n",
      "[3,]    0    0 0.07\n",
      "[4,]    0    0 0.18\n",
      "[5,]    0    0 0.00\n",
      "[6,]    0    0 0.20\n",
      "[7,]    0    0 0.09\n",
      "[8,]    0    0 0.00\n",
      "\n",
      "Call:\n",
      "lm(formula = polynomial, data = as.data.frame(XY))\n",
      "\n",
      "Coefficients:\n",
      "(Intercept)            X       I(X^2)  \n",
      "     -1.070        2.983       -1.814  \n",
      "\n",
      "     X         Y continuation immediate_exercise\n",
      "1 1.08 0.0000000   0.03674038               0.02\n",
      "2   NA        NA           NA                 NA\n",
      "3 1.07 0.0659232   0.04589812               0.03\n",
      "4 0.97 0.1695168   0.11752626               0.13\n",
      "5   NA        NA           NA                 NA\n",
      "6 0.77 0.1883520   0.15196848               0.33\n",
      "7 0.84 0.0847584   0.15641716               0.26\n",
      "8   NA        NA           NA                 NA\n",
      "     [,1] [,2] [,3]\n",
      "[1,]    0 0.00 0.00\n",
      "[2,]    0 0.00 0.00\n",
      "[3,]    0 0.00 0.07\n",
      "[4,]    0 0.13 0.18\n",
      "[5,]    0 0.00 0.00\n",
      "[6,]    0 0.33 0.20\n",
      "[7,]    0 0.26 0.09\n",
      "[8,]    0 0.00 0.00\n",
      "\n",
      "Call:\n",
      "lm(formula = polynomial, data = as.data.frame(XY))\n",
      "\n",
      "Coefficients:\n",
      "(Intercept)            X       I(X^2)  \n",
      "      2.038       -3.335        1.356  \n",
      "\n",
      "     X         Y continuation immediate_exercise\n",
      "1 1.09 0.0000000   0.01348504               0.01\n",
      "2   NA        NA           NA                 NA\n",
      "3   NA        NA           NA                 NA\n",
      "4 0.93 0.1224288   0.10874876               0.17\n",
      "5   NA        NA           NA                 NA\n",
      "6 0.76 0.3107808   0.28606330               0.34\n",
      "7 0.92 0.2448576   0.11700870               0.18\n",
      "8 0.88 0.0000000   0.15276139               0.22\n",
      "     [,1] [,2] [,3]\n",
      "[1,] 0.00 0.00 0.00\n",
      "[2,] 0.00 0.00 0.00\n",
      "[3,] 0.00 0.00 0.07\n",
      "[4,] 0.17 0.13 0.18\n",
      "[5,] 0.00 0.00 0.00\n",
      "[6,] 0.34 0.33 0.20\n",
      "[7,] 0.18 0.26 0.09\n",
      "[8,] 0.22 0.00 0.00\n"
     ]
    }
   ],
   "source": [
    "V <- pmax(K - S[, M], 0) # Get the last column of the matrix S and calculate the payoff\n",
    "Cash_flow <- matrix(0, nrow = n, ncol = M) # Initialize Cash_flow matrix with zeros\n",
    "Cash_flow[, M] <- V # Set the last column of Cash_flow to V\n",
    "print(Cash_flow) \n",
    "\n",
    "for (m in M:2) { # Loop from M to 2 \n",
    "  X <- S[, m-1] # Get the stock prices at time m-1\n",
    "  Y <- Cash_flow[, m] * discount # Discount the cash flows at time m\n",
    "  XY <- cbind(X, Y)\n",
    "  XY[X > K, ] <- NA # Only consider paths where stock price is less than K (in the money), make NA so regression does not consider them\n",
    "  \n",
    "  # Regression model\n",
    "  polynomial <- Y ~ X + I(X^2) # Choose the polynomial \n",
    "  regression <- lm(polynomial, data = as.data.frame(XY)) # Fit using X and Y \n",
    "  print(regression)  \n",
    "  \n",
    "  immediate_exercise <- pmax(K - S[, m-1], 0) # Calculate immediate exercise value at time m-1  \n",
    "  continuation <- predict(regression, newdata = as.data.frame(X)) # Calculate continuation value for X values at time m-1 using regression model\n",
    "  full_step <- cbind(XY, continuation, immediate_exercise) # Combine all matrices for this step \n",
    "  full_step[immediate_exercise == 0, ] <- NA # Exclude not in the money paths \n",
    "  print(full_step)  \n",
    "  \n",
    "  result_vector <- ifelse(\n",
    "    is.na(full_step[, 4]), 0, # If column 4 (Immediate Exercise) is NA (not in the money paths), set to 0              \n",
    "    ifelse(full_step[, 3] > full_step[, 4], 0, full_step[, 4]) # If continutation value is greater than immediate exercise, set to 0, else set to immediate exercise value\n",
    "  ) \n",
    "  \n",
    "  Cash_flow[, m-1] <- result_vector # Update Cash_flow matrix with the result vector for the current step\n",
    "  print(Cash_flow)  \n",
    "}"
   ]
  },
  {
   "cell_type": "code",
   "execution_count": 4,
   "metadata": {
    "vscode": {
     "languageId": "r"
    }
   },
   "outputs": [
    {
     "name": "stdout",
     "output_type": "stream",
     "text": [
      "          [,1] [,2]      [,3]\n",
      "[1,] 0.0000000    0 0.0000000\n",
      "[2,] 0.0000000    0 0.0000000\n",
      "[3,] 0.0000000    0 0.0584689\n",
      "[4,] 0.1600992    0 0.0000000\n",
      "[5,] 0.0000000    0 0.0000000\n",
      "[6,] 0.3201984    0 0.0000000\n",
      "[7,] 0.1695168    0 0.0000000\n",
      "[8,] 0.2071872    0 0.0000000\n"
     ]
    },
    {
     "name": "stdout",
     "output_type": "stream",
     "text": [
      "[1] 0.1144338\n"
     ]
    }
   ],
   "source": [
    "for (i in 1:nrow(Cash_flow)) {\n",
    "  for (j in 1:ncol(Cash_flow)) {\n",
    "    if (Cash_flow[i, j] != 0) { # First row non-zero value\n",
    "      discount <- round(exp(-r * j), 5) # Discount for number of columns (time steps)\n",
    "      Cash_flow[i, j] <- Cash_flow[i, j] * discount\n",
    "      if (j < ncol(Cash_flow)) {\n",
    "        Cash_flow[i, (j+1):ncol(Cash_flow)] <- 0 # Zero out future columns for that row \n",
    "      }\n",
    "      break  # Break loop is non-zero value is found, go to new row  \n",
    "    }\n",
    "  }\n",
    "}\n",
    "print(Cash_flow) \n",
    "print(mean(rowSums(Cash_flow))) # This gives the same result as Longstaff Schwartz "
   ]
  },
  {
   "cell_type": "markdown",
   "metadata": {},
   "source": [
    "## American Put using OLS Function"
   ]
  },
  {
   "cell_type": "code",
   "execution_count": 5,
   "metadata": {
    "vscode": {
     "languageId": "r"
    }
   },
   "outputs": [],
   "source": [
    "price_american_put_longstaff_schwartz <- function(K, M, n, dt, r, S,polynomial) {\n",
    "  discount <- exp(-r * dt)  \n",
    "  \n",
    "  V <- pmax(K - S[, M], 0)  \n",
    "  Cash_flow <- matrix(0, nrow = n, ncol = M)\n",
    "  Cash_flow[, M] <- V\n",
    "  \n",
    "  # Cash Flows at each time step \n",
    "  for (m in M:2) {\n",
    "    X <- S[, m-1]\n",
    "    Y <- Cash_flow[, m] * discount\n",
    "    XY <- cbind(X, Y)\n",
    "    XY[X > K, ] <- NA  \n",
    "    \n",
    "    regression <- lm(polynomial, data = as.data.frame(XY))\n",
    "    \n",
    "    immediate_exercise <- pmax(K - S[, m-1], 0)\n",
    "    continuation <- predict(regression, newdata = as.data.frame(X))\n",
    "    \n",
    "    full_step <- cbind(continuation, immediate_exercise)\n",
    "    full_step[immediate_exercise == 0, ] <- NA\n",
    "    \n",
    "    result_vector <- ifelse(\n",
    "      is.na(full_step[, 2]), 0,                       \n",
    "      ifelse(full_step[, 1] > full_step[, 2], 0, full_step[, 2])\n",
    "    )\n",
    "    Cash_flow[, m-1] <- result_vector\n",
    "  }\n",
    "  \n",
    "  # Discounting \n",
    "  for (i in 1:nrow(Cash_flow)) {\n",
    "    for (j in 1:ncol(Cash_flow)) {\n",
    "      if (Cash_flow[i, j] != 0) { \n",
    "        Cash_flow[i, j] <- Cash_flow[i, j] * round(exp(-r * j), 5)\n",
    "        if (j < ncol(Cash_flow)) {\n",
    "          Cash_flow[i, (j+1):ncol(Cash_flow)] <- 0\n",
    "        }\n",
    "        break\n",
    "      }\n",
    "    }\n",
    "  }\n",
    "  \n",
    "  option_price <- mean(rowSums(Cash_flow))\n",
    "  return(option_price)\n",
    "}"
   ]
  },
  {
   "cell_type": "markdown",
   "metadata": {},
   "source": [
    "### Example of differing polynomial degrees"
   ]
  },
  {
   "cell_type": "code",
   "execution_count": 6,
   "metadata": {
    "vscode": {
     "languageId": "r"
    }
   },
   "outputs": [
    {
     "data": {
      "text/html": [
       "0.1144338125"
      ],
      "text/latex": [
       "0.1144338125"
      ],
      "text/markdown": [
       "0.1144338125"
      ],
      "text/plain": [
       "[1] 0.1144338"
      ]
     },
     "metadata": {},
     "output_type": "display_data"
    }
   ],
   "source": [
    "price_american_put_longstaff_schwartz(\n",
    "  K = 1.1, \n",
    "  M = 3, \n",
    "  n = 8, \n",
    "  dt = 1, \n",
    "  r = 0.06, \n",
    "  S = S,\n",
    "  polynomial = Y ~ X + I(X^2)\n",
    ")"
   ]
  },
  {
   "cell_type": "code",
   "execution_count": 7,
   "metadata": {
    "vscode": {
     "languageId": "r"
    }
   },
   "outputs": [
    {
     "data": {
      "text/html": [
       "0.1242864125"
      ],
      "text/latex": [
       "0.1242864125"
      ],
      "text/markdown": [
       "0.1242864125"
      ],
      "text/plain": [
       "[1] 0.1242864"
      ]
     },
     "metadata": {},
     "output_type": "display_data"
    }
   ],
   "source": [
    "price_american_put_longstaff_schwartz(\n",
    "  K = 1.1, \n",
    "  M = 3, \n",
    "  n = 8, \n",
    "  dt = 1, \n",
    "  r = 0.06, \n",
    "  S = S, \n",
    "  polynomial = Y ~ X + I(X^2) + I(X^3) + I(X^4)\n",
    ")"
   ]
  },
  {
   "cell_type": "markdown",
   "metadata": {},
   "source": [
    "## Monte Carlo American Put using OLS \n",
    "- Instead of a fixed stock path matrix we generate stock paths using Geometric Brownian Motion "
   ]
  },
  {
   "cell_type": "markdown",
   "metadata": {},
   "source": [
    "#### Visualize Geometric Brownian Motion"
   ]
  },
  {
   "cell_type": "code",
   "execution_count": 15,
   "metadata": {
    "vscode": {
     "languageId": "r"
    }
   },
   "outputs": [],
   "source": [
    "# Generate stock price paths using Geometric Brownian Motion\n",
    "set.seed(123)\n",
    "M <- 100\n",
    "dt <- 1 / M # Time step size\n",
    "N  <- 100\n",
    "sigma <- 0.01026789\n",
    "S0 <- 931.8\n",
    "r <- 0.5290473\n",
    "\n",
    "stock_tree <- matrix(0, nrow = N, ncol = M + 1) # Matrix to store stock prices \n",
    "stock_tree[, 1] <- S0 # Inital stock price \n",
    "for (j in 2:(M + 1)) {\n",
    "    Z <- rnorm(N)\n",
    "    stock_tree[, j] <- stock_tree[, j - 1] * exp((r - 0.5 * sigma^2) * dt + sigma * sqrt(dt) * Z) # Postive drift\n",
    "    #stock_tree[, j] <- stock_tree[, j - 1] * exp(sigma * sqrt(dt) * Z) # Without drift gives a very different plot \n",
    "  }\n",
    "S <- stock_tree[,-1] # Exclude initial stock price"
   ]
  },
  {
   "cell_type": "code",
   "execution_count": 16,
   "metadata": {
    "vscode": {
     "languageId": "r"
    }
   },
   "outputs": [
    {
     "data": {
      "image/png": "[encoded data removed]",
      "text/plain": [
       "Plot with title \"Geometric Brownian Motion with drift\""
      ]
     },
     "metadata": {
      "image/png": {
       "height": 420,
       "width": 420
      }
     },
     "output_type": "display_data"
    }
   ],
   "source": [
    "matplot(t(stock_tree), type = \"l\", lty = 1, col = 1:5,  xlab = \"Time\", ylab = \"Value\", main = \"Geometric Brownian Motion with drift\")"
   ]
  },
  {
   "cell_type": "markdown",
   "metadata": {},
   "source": [
    "#### Function for Monte Carlo American Put\n",
    "- Generate paths using Monte Carlo"
   ]
  },
  {
   "cell_type": "code",
   "execution_count": 10,
   "metadata": {
    "vscode": {
     "languageId": "r"
    }
   },
   "outputs": [],
   "source": [
    "price_american_put_longstaff_schwartz_MC <- function(K, M, N, r, S0,sigma, polynomial) {\n",
    "  \n",
    "  dt <- 1/M\n",
    "  stock_tree <- matrix(0, nrow = N, ncol = M + 1) \n",
    "  stock_tree[, 1] <- S0\n",
    "  set.seed(123)\n",
    "  \n",
    "  for (j in 2:(M + 1)) {\n",
    "    Z <- rnorm(N)\n",
    "    # stock_tree[, j] <- stock_tree[, j - 1] * exp((r - 0.5 * sigma^2) * dt + sigma * sqrt(dt) * Z) # Postive drift \n",
    "    stock_tree[, j] <- stock_tree[, j - 1] * exp(sigma * sqrt(dt) * Z) # No drift \n",
    "  }\n",
    "  S <- stock_tree[,-1] \n",
    "  discount <- exp(-r * dt)  \n",
    "  \n",
    "  V <- pmax(K - S[, M], 0)  \n",
    "  Cash_flow <- matrix(0, nrow = N, ncol = M)\n",
    "  Cash_flow[, M] <- V\n",
    "  \n",
    "  # Cash Flows at each time step \n",
    "  for (m in M:2) {\n",
    "    X <- S[, m-1]\n",
    "    Y <- Cash_flow[, m] * discount\n",
    "    XY <- cbind(X, Y)\n",
    "    XY[X > K, ] <- NA  \n",
    "\n",
    "    if (all(is.na(XY))) {\n",
    "        Cash_flow[, m-1] <- 0  # Skip regression if no in the money paths\n",
    "        next\n",
    "    }\n",
    "    \n",
    "    regression <- lm(polynomial, data = as.data.frame(XY))\n",
    "    \n",
    "    immediate_exercise <- pmax(K - S[, m-1], 0)\n",
    "    continuation <- predict(regression, newdata = as.data.frame(X))\n",
    "    \n",
    "    full_step <- cbind(continuation, immediate_exercise)\n",
    "    full_step[immediate_exercise == 0, ] <- NA\n",
    "    \n",
    "    result_vector <- ifelse(\n",
    "      is.na(full_step[, 2]), 0,                       \n",
    "      ifelse(full_step[, 1] > full_step[, 2], 0, full_step[, 2])\n",
    "    )\n",
    "    Cash_flow[, m-1] <- result_vector\n",
    "  }\n",
    "  \n",
    "  # Discounting \n",
    "  for (i in 1:nrow(Cash_flow)) {\n",
    "    for (j in 1:ncol(Cash_flow)) {\n",
    "      if (Cash_flow[i, j] != 0) { \n",
    "        Cash_flow[i, j] <- Cash_flow[i, j] * round(exp(-r * j), 5)\n",
    "        if (j < ncol(Cash_flow)) {\n",
    "          Cash_flow[i, (j+1):ncol(Cash_flow)] <- 0\n",
    "        }\n",
    "        break\n",
    "      }\n",
    "    }\n",
    "  }\n",
    "  \n",
    "  option_price <- mean(rowSums(Cash_flow))\n",
    "  return(option_price)\n",
    "}"
   ]
  },
  {
   "cell_type": "code",
   "execution_count": 11,
   "metadata": {
    "vscode": {
     "languageId": "r"
    }
   },
   "outputs": [
    {
     "data": {
      "text/html": [
       "8.15430324509449"
      ],
      "text/latex": [
       "8.15430324509449"
      ],
      "text/markdown": [
       "8.15430324509449"
      ],
      "text/plain": [
       "[1] 8.154303"
      ]
     },
     "metadata": {},
     "output_type": "display_data"
    }
   ],
   "source": [
    "# Example 1 comparison with binomial tree, slightly in the money  \n",
    "price_american_put_longstaff_schwartz_MC(\n",
    "  K = 940,\n",
    "  M = 1000, \n",
    "  N = 10000,  \n",
    "  r = 0.005290473,\n",
    "  S0 = 931.8, \n",
    "  sigma = 0.01026789,\n",
    "  polynomial = Y ~ X + I(X^2) \n",
    ")\n"
   ]
  },
  {
   "cell_type": "code",
   "execution_count": 12,
   "metadata": {
    "vscode": {
     "languageId": "r"
    }
   },
   "outputs": [
    {
     "data": {
      "text/html": [
       "0.221832373983461"
      ],
      "text/latex": [
       "0.221832373983461"
      ],
      "text/markdown": [
       "0.221832373983461"
      ],
      "text/plain": [
       "[1] 0.2218324"
      ]
     },
     "metadata": {},
     "output_type": "display_data"
    }
   ],
   "source": [
    "# Example 2 comparison with binomial tree, at the money strike \n",
    "price_american_put_longstaff_schwartz_MC(\n",
    "  K = 931.8,\n",
    "  M = 1000, \n",
    "  N = 10000,  \n",
    "  r = 0.005290473,\n",
    "  S0 = 931.8, \n",
    "  sigma = 0.01026789,\n",
    "  polynomial = Y ~ X + I(X^2) \n",
    ")"
   ]
  },
  {
   "cell_type": "code",
   "execution_count": 13,
   "metadata": {
    "vscode": {
     "languageId": "r"
    }
   },
   "outputs": [
    {
     "data": {
      "text/html": [
       "0.0686468258733936"
      ],
      "text/latex": [
       "0.0686468258733936"
      ],
      "text/markdown": [
       "0.0686468258733936"
      ],
      "text/plain": [
       "[1] 0.06864683"
      ]
     },
     "metadata": {},
     "output_type": "display_data"
    }
   ],
   "source": [
    "# Example 3 comparison with Monte Carlo, very deep out of the money strike price\n",
    "price_american_put_longstaff_schwartz_MC(\n",
    "  K = 929,\n",
    "  M = 1000, \n",
    "  N = 10000,  \n",
    "  r = 0.005290473,\n",
    "  S0 = 931.8, \n",
    "  sigma = 0.01026789,\n",
    "  polynomial = Y ~ X + I(X^2) \n",
    ")"
   ]
  },
  {
   "cell_type": "code",
   "execution_count": 14,
   "metadata": {
    "vscode": {
     "languageId": "r"
    }
   },
   "outputs": [
    {
     "data": {
      "text/html": [
       "37.9886591162368"
      ],
      "text/latex": [
       "37.9886591162368"
      ],
      "text/markdown": [
       "37.9886591162368"
      ],
      "text/plain": [
       "[1] 37.98866"
      ]
     },
     "metadata": {},
     "output_type": "display_data"
    }
   ],
   "source": [
    "# Example 4 comparison with Monte Carlo, very deep in the money strike price\n",
    "price_american_put_longstaff_schwartz_MC(\n",
    "  K = 970,\n",
    "  M = 1000, \n",
    "  N = 10000,  \n",
    "  r = 0.005290473,\n",
    "  S0 = 931.8, \n",
    "  sigma = 0.01026789,\n",
    "  polynomial = Y ~ X + I(X^2) \n",
    ")"
   ]
  },
  {
   "cell_type": "code",
   "execution_count": null,
   "metadata": {
    "vscode": {
     "languageId": "r"
    }
   },
   "outputs": [],
   "source": []
  }
 ],
 "metadata": {
  "kernelspec": {
   "display_name": "R",
   "language": "R",
   "name": "ir"
  },
  "language_info": {
   "codemirror_mode": "r",
   "file_extension": ".r",
   "mimetype": "text/x-r-source",
   "name": "R",
   "pygments_lexer": "r",
   "version": "4.3.1"
  }
 },
 "nbformat": 4,
 "nbformat_minor": 2
}
