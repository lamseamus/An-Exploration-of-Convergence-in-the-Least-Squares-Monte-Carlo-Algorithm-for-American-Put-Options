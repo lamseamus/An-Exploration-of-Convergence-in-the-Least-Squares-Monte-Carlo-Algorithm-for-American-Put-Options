{
 "cells": [
  {
   "cell_type": "markdown",
   "id": "3e5b2aa0",
   "metadata": {},
   "source": [
    "# Plots for Longstaff Schwartz using European Put and Call Values as regressors \n",
    "- Use some custom functions as regressors \n",
    "- put_call_quad= Y ~ S + call + put + I(S^2) + I(call^2) + I(put^2),  # Example from office hours\n",
    "- put_only = Y ~ S + put + I(S^2) + I(put^2),                     # Just put values\n",
    "- put_call_cubic = Y ~ S + call + put + I(S^2) + I(call^2) + I(put^2) + I(call^3) + I(put^3),  # Add cubic terms\n",
    "- put_call_quad_int = Y ~ S + call + put + I(S^2) + I(call^2) + I(put^2) + I(call*S) + I(put*S)  # Interaction terms"
   ]
  },
  {
   "cell_type": "code",
   "execution_count": 3,
   "id": "89119756",
   "metadata": {
    "vscode": {
     "languageId": "r"
    }
   },
   "outputs": [],
   "source": [
    "options(scipen = 999)\n",
    "source(\"Functions.R\") # Import the functions from the Functions.R file\n",
    "library(RColorBrewer)\n",
    "library(scatterplot3d)\n",
    "library(ggplot2)\n",
    "library(viridis)\n",
    "library(plotly)"
   ]
  },
  {
   "cell_type": "code",
   "execution_count": null,
   "id": "7391a61b",
   "metadata": {
    "vscode": {
     "languageId": "r"
    }
   },
   "outputs": [],
   "source": [
    "# Fixed parameters \n",
    "K = 931.8 # At the money strike \n",
    "M = 50 # Number of time steps \n",
    "r = 0.005290473\n",
    "S0 = 931.8 \n",
    "sigma = 0.01026789\n",
    "\n",
    "list_of_regressors <- list(\n",
    "  put_call_quad= Y ~ S + call + put + I(S^2) + I(call^2) + I(put^2),  # Example from office hours\n",
    "  put_only = Y ~ S + put + I(S^2) + I(put^2),                     # Just put values\n",
    "  put_call_cubic = Y ~ S + call + put + I(S^2) + I(call^2) + I(put^2) + I(call^3) + I(put^3),  # Add cubic terms\n",
    "  put_call_quad_int = Y ~ S + call + put + I(S^2) + I(call^2) + I(put^2) + I(call*S) + I(put*S)  # Interaction terms\n",
    ")\n",
    "\n",
    "list_of_N_values <- c(1000,5000,10000,50000,100000,500000,1000000) # Number of paths to simulate"
   ]
  },
  {
   "cell_type": "code",
   "execution_count": null,
   "id": "456425ac",
   "metadata": {
    "vscode": {
     "languageId": "r"
    }
   },
   "outputs": [],
   "source": [
    "df_euro <- data.frame(N = integer(), Price = numeric(), Example = character())\n",
    "\n",
    "for (i in seq_along(list_of_regressors)) {\n",
    "  example_name <- names(list_of_regressors)[i]\n",
    "  example_formula <- list_of_regressors[[i]]\n",
    "  \n",
    "  for (N in list_of_N_values) {\n",
    "    price <- price_american_put_longstaff_schwartz_MC_euro(\n",
    "      K = K, M = M, N = N, r = r, S0 = S0, sigma = sigma, polynomial = example_formula\n",
    "    )\n",
    "    df_euro <- rbind(df_euro, data.frame(N = N, Price = price, Example = example_name))\n",
    "  }\n",
    "}\n",
    "df_euro$Error <- abs(df_euro$Price - 2.32429) # Price from Binomial Tree Convergence\n",
    "write.csv(df_euro, \"Data/ConvergenceErrorByNumberofSimPathsEuro.csv\", row.names = FALSE) # Save the data frame to a CSV file"
   ]
  },
  {
   "cell_type": "code",
   "execution_count": 30,
   "id": "95f8e605",
   "metadata": {
    "vscode": {
     "languageId": "r"
    }
   },
   "outputs": [],
   "source": [
    "df_euro <- read.csv(\"Data/ConvergenceErrorByNumberofSimPathsEuro.csv\") "
   ]
  },
  {
   "cell_type": "code",
   "execution_count": 38,
   "id": "ce90e86c",
   "metadata": {
    "vscode": {
     "languageId": "r"
    }
   },
   "outputs": [
    {
     "name": "stderr",
     "output_type": "stream",
     "text": [
      "Warning message in viridisLite::viridis(n, alpha, begin, end, direction, option):\n",
      "\"Option 'K' does not exist. Defaulting to 'viridis'.\"\n"
     ]
    },
    {
     "data": {
      "image/png": "[encoded data removed]",
      "text/plain": [
       "plot without title"
      ]
     },
     "metadata": {
      "image/png": {
       "height": 420,
       "width": 420
      }
     },
     "output_type": "display_data"
    }
   ],
   "source": [
    "df_euro$Example<- as.factor(df_euro$Example)\n",
    "ggplot(df_euro, aes(x = N, y = Error, color = Example, group = Example)) +\n",
    "  geom_line(size = 1.2) +\n",
    "  geom_point(size = 2) +\n",
    "  geom_label(aes(label = as.character(Example)), \n",
    "             data = df_euro %>% group_by(Example) %>% filter(N == max(N)) %>% ungroup(),show.legend = FALSE,size = 2,nudge_x = 0.20) +\n",
    "  scale_x_log10() +  \n",
    "  expand_limits(x = max(df_euro$N) * 1.2) +\n",
    "  scale_color_viridis_d(option = \"K\", name = \"Functions\") +\n",
    "  labs(title = \"Convergence Error by Number of Simulation Paths and Customs Functions\",\n",
    "       x = \"Number of Simulations (N, log scale)\",\n",
    "       y = \"Absolute Error\") +\n",
    "  theme_minimal() +\n",
    "  theme(legend.position = \"bottom\"\n",
    "          )"
   ]
  },
  {
   "cell_type": "markdown",
   "id": "bf374c27",
   "metadata": {},
   "source": []
  }
 ],
 "metadata": {
  "kernelspec": {
   "display_name": "R",
   "language": "R",
   "name": "ir"
  },
  "language_info": {
   "codemirror_mode": "r",
   "file_extension": ".r",
   "mimetype": "text/x-r-source",
   "name": "R",
   "pygments_lexer": "r",
   "version": "4.3.1"
  }
 },
 "nbformat": 4,
 "nbformat_minor": 5
}
