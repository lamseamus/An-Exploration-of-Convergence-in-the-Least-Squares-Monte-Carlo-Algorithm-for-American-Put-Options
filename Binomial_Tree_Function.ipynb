{
 "cells": [
  {
   "cell_type": "markdown",
   "metadata": {},
   "source": [
    "# Binomial Tree Function"
   ]
  },
  {
   "cell_type": "code",
   "execution_count": 1,
   "metadata": {
    "vscode": {
     "languageId": "r"
    }
   },
   "outputs": [],
   "source": [
    "# Function to price an American put using a Binomial Tree\n",
    "binomial_tree_american_put <- function(S0, K, T, r, sigma, M) {\n",
    "  dt <- T / M  #Time Step Size \n",
    "  u <- exp(sigma * sqrt(dt)) # Upturn factor\n",
    "  d <- exp(-sigma * sqrt(dt)) # Downward factor\n",
    "  p <- (exp(r * dt) - d) / (u - d) # Risk-neutral probability\n",
    "\n",
    "  # Stock price tree\n",
    "  stock_tree <- matrix(0, nrow = M + 1, ncol = M + 1) # Create matrix to store stock prices\n",
    "  for (j in 0:M) {\n",
    "    for (i in 0:j) {\n",
    "      stock_tree[i + 1, j + 1] <- S0 * u^i * d^(j - i) # Number of steps multiplied by upturn and downturn factors\n",
    "    }\n",
    "  }\n",
    "  # Option value tree\n",
    "  option_tree <- matrix(0, nrow = M + 1, ncol = M + 1) # Matrix to store option values \n",
    "  option_tree[, M + 1] <- pmax(K - stock_tree[, M + 1], 0)  # Payoff is max(K - S, 0) at maturity, applied to entire column M+1\n",
    "\n",
    "  # Work backward through the tree\n",
    "  for (j in (M - 1):0) { # Go through each column in reverse order starting at M-1  \n",
    "    for (i in 0:j) { # Go though each row in the column\n",
    "      continuation <- exp(-r * dt) * (p * option_tree[i + 2, j + 2] + (1 - p) * option_tree[i + 1, j + 2])\n",
    "      exercise <- pmax(K - stock_tree[i + 1, j + 1], 0)\n",
    "      option_tree[i + 1, j + 1] <- pmax(continuation, exercise)\n",
    "    }\n",
    "  }\n",
    "  \n",
    "  return(option_tree[1, 1])  # Option price at root\n",
    "}"
   ]
  },
  {
   "cell_type": "code",
   "execution_count": 2,
   "metadata": {
    "vscode": {
     "languageId": "r"
    }
   },
   "outputs": [
    {
     "data": {
      "text/html": [
       "0.0975171424480181"
      ],
      "text/latex": [
       "0.0975171424480181"
      ],
      "text/markdown": [
       "0.0975171424480181"
      ],
      "text/plain": [
       "[1] 0.09751714"
      ]
     },
     "metadata": {},
     "output_type": "display_data"
    }
   ],
   "source": [
    "# Test with example from class \n",
    "binomial_tree_american_put(S0=4, K=3.5, T=1.5, r=0.05, sigma=0.2, M=3) # Gives same result"
   ]
  },
  {
   "cell_type": "code",
   "execution_count": 3,
   "metadata": {
    "vscode": {
     "languageId": "r"
    }
   },
   "outputs": [],
   "source": [
    "# Parameters for Initial Testing \n",
    "S0 <- 931.8 # Inital stock price of SNP500 from estimation\n",
    "r <- 0.005290473 # Risk-free rate from estimation \n",
    "sigma <- 0.01026789 # Volatility from estimation\n",
    "M <- 1000  # Time steps for binomial tree\n",
    "T <- 1"
   ]
  },
  {
   "cell_type": "code",
   "execution_count": 4,
   "metadata": {
    "vscode": {
     "languageId": "r"
    }
   },
   "outputs": [
    {
     "data": {
      "text/html": [
       "8.20000000000005"
      ],
      "text/latex": [
       "8.20000000000005"
      ],
      "text/markdown": [
       "8.20000000000005"
      ],
      "text/plain": [
       "[1] 8.2"
      ]
     },
     "metadata": {},
     "output_type": "display_data"
    }
   ],
   "source": [
    "# Example 1 comparion with Monte Carlo, slightly in the money  \n",
    "K <- 940\n",
    "binomial_tree_american_put(S0, K, T, r, sigma, M)"
   ]
  },
  {
   "cell_type": "code",
   "execution_count": 5,
   "metadata": {
    "vscode": {
     "languageId": "r"
    }
   },
   "outputs": [
    {
     "data": {
      "text/html": [
       "2.32392885015993"
      ],
      "text/latex": [
       "2.32392885015993"
      ],
      "text/markdown": [
       "2.32392885015993"
      ],
      "text/plain": [
       "[1] 2.323929"
      ]
     },
     "metadata": {},
     "output_type": "display_data"
    }
   ],
   "source": [
    "# Example 2 comparison with Monte Carlo, at the money strike price\n",
    "K <- 931.8\n",
    "binomial_tree_american_put(S0, K, T, r, sigma, M)"
   ]
  },
  {
   "cell_type": "code",
   "execution_count": 6,
   "metadata": {
    "vscode": {
     "languageId": "r"
    }
   },
   "outputs": [
    {
     "data": {
      "text/html": [
       "1.37662786280288"
      ],
      "text/latex": [
       "1.37662786280288"
      ],
      "text/markdown": [
       "1.37662786280288"
      ],
      "text/plain": [
       "[1] 1.376628"
      ]
     },
     "metadata": {},
     "output_type": "display_data"
    }
   ],
   "source": [
    "# Example 3 comparison with Monte Carlo, very deep out of the money strike price\n",
    "K <- 929\n",
    "binomial_tree_american_put(S0, K, T, r, sigma, M)"
   ]
  },
  {
   "cell_type": "code",
   "execution_count": 7,
   "metadata": {
    "vscode": {
     "languageId": "r"
    }
   },
   "outputs": [
    {
     "data": {
      "text/html": [
       "38.2"
      ],
      "text/latex": [
       "38.2"
      ],
      "text/markdown": [
       "38.2"
      ],
      "text/plain": [
       "[1] 38.2"
      ]
     },
     "metadata": {},
     "output_type": "display_data"
    }
   ],
   "source": [
    "# Example 4 comparison with Monte Carlo, very deep in the money strike price\n",
    "K <- 970\n",
    "binomial_tree_american_put(S0, K, T, r, sigma, M)"
   ]
  },
  {
   "cell_type": "code",
   "execution_count": null,
   "metadata": {
    "vscode": {
     "languageId": "r"
    }
   },
   "outputs": [],
   "source": []
  }
 ],
 "metadata": {
  "kernelspec": {
   "display_name": "R",
   "language": "R",
   "name": "ir"
  },
  "language_info": {
   "codemirror_mode": "r",
   "file_extension": ".r",
   "mimetype": "text/x-r-source",
   "name": "R",
   "pygments_lexer": "r",
   "version": "4.3.1"
  }
 },
 "nbformat": 4,
 "nbformat_minor": 2
}
